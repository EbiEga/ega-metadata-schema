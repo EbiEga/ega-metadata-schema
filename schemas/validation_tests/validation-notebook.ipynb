{
 "cells": [
  {
   "cell_type": "code",
   "execution_count": 1,
   "metadata": {},
   "outputs": [],
   "source": [
    "import jsonschema\n",
    "import json\n",
    "\n",
    "def validate_json_file(common_schema_file, object_schema_file, json_data_file):\n",
    "    \"\"\"\n",
    "    Function that, given a common-definitions schema and a specific data schema (both written in JSON),\n",
    "        validates a third JSON file with the first two. For further details, go to: \n",
    "            https://github.com/EbiEga/ega-metadata-schema/tree/main/schemas\n",
    "    \"\"\"\n",
    "    # Load the common-definitions JSON schema\n",
    "    with open(common_schema_file, \"r\") as f:\n",
    "        common_schema = json.load(f)\n",
    "        \n",
    "    # Load the specific schema\n",
    "    with open(object_schema_file, \"r\") as f:\n",
    "        object_schema = json.load(f)\n",
    "        \n",
    "    # Load the JSON data file\n",
    "    with open(json_data_file, \"r\") as f:\n",
    "        data_json = json.load(f)\n",
    "    \n",
    "    # We create the reference dictionary linking $id and $ref between files\n",
    "    schema_store = {\n",
    "        common_schema['$id'] : common_schema,\n",
    "        object_schema['$id'] : object_schema\n",
    "    }\n",
    "    resolver = jsonschema.RefResolver.from_schema(common_schema, store=schema_store)\n",
    "    validator = jsonschema.Draft7Validator(object_schema, resolver=resolver)\n",
    "\n",
    "    # We try to validate the given JSON data file against the given schemas\n",
    "    try:\n",
    "        validator.validate(data_json)\n",
    "        print(f\"- Correctly validated file: {json_data_file}\\n\")\n",
    "        \n",
    "    except jsonschema.exceptions.ValidationError as error_message:\n",
    "        print(f\"-/- Validation error found at file: {json_data_file}\")\n",
    "        print(f\"\\tCause: {error_message.message}\")"
   ]
  },
  {
   "cell_type": "code",
   "execution_count": 2,
   "metadata": {},
   "outputs": [
    {
     "name": "stdout",
     "output_type": "stream",
     "text": [
      "-/- Validation error found at file: ArrayAssay-invalid-1.json\n",
      "\tCause: 130 is not of type 'string'\n",
      "-/- Validation error found at file: ArrayAssay-invalid-2.json\n",
      "\tCause: 'MD20' is not one of ['MD5 [NCIT:C171276]', 'SHA-256 [NCIT:C80226]']\n",
      "-/- Validation error found at file: ArrayAssay-invalid-3.json\n",
      "\tCause: '2121-13-32' does not match '^(19|20)[0-9]{2}-(0[0-9]|1[0-2])-([012][0-9]|3[01])$'\n",
      "- Correctly validated file: ArrayAssay-valid-1.json\n",
      "\n",
      "-/- Validation error found at file: ArrayExperiment-invalid-1.json\n",
      "\tCause: 'EGAE0000000001' does not match '^EGAE[0-9]{11}$'\n",
      "-/- Validation error found at file: ArrayExperiment-invalid-2.json\n",
      "\tCause: 'EGAE00000000001' does not match '^EGAN[0-9]{11}$'\n",
      "-/- Validation error found at file: ArrayExperiment-invalid-3.json\n",
      "\tCause: 'protocol_ontology' is a required property\n",
      "-/- Validation error found at file: ArrayExperiment-invalid-4.json\n",
      "\tCause: 'c6779ec2960296ed9a04f08d67f64423' does not match '^[A-Fa-f0-9]{64}$'\n",
      "- Correctly validated file: ArrayExperiment-valid-1.json\n",
      "\n"
     ]
    }
   ],
   "source": [
    "import os\n",
    "\n",
    "# We iterate over all json files in the current directory and use the above defined\n",
    "#     function to validate them. \n",
    "for testing_file in os.listdir(\"./\"):\n",
    "    if testing_file.endswith(\".json\"):\n",
    "        # We extract the metadata object to use the correct object schema\n",
    "        object_of_file = testing_file[:testing_file.find(\"-\")]\n",
    "        validate_json_file(common_schema_file = \"../EGA.common-definitions.json\", \n",
    "                           object_schema_file = f\"../EGA.{object_of_file}.json\", \n",
    "                           json_data_file = testing_file)"
   ]
  }
 ],
 "metadata": {
  "kernelspec": {
   "display_name": "Python 3",
   "language": "python",
   "name": "python3"
  },
  "language_info": {
   "codemirror_mode": {
    "name": "ipython",
    "version": 3
   },
   "file_extension": ".py",
   "mimetype": "text/x-python",
   "name": "python",
   "nbconvert_exporter": "python",
   "pygments_lexer": "ipython3",
   "version": "3.8.5"
  }
 },
 "nbformat": 4,
 "nbformat_minor": 4
}
