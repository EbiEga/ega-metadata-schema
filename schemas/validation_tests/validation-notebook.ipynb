{
 "cells": [
  {
   "cell_type": "code",
   "execution_count": 5,
   "metadata": {},
   "outputs": [
    {
     "name": "stdout",
     "output_type": "stream",
     "text": [
      "-/- Validation error found at file: ArrayAssay-invalid-1.json\n",
      "\tCause: 23 is not of type 'string'\n",
      "-/- Validation error found at file: ArrayAssay-invalid-2.json\n",
      "\tCause: 'c01b39c7a35ccc3b081a3e83d2c71fa9a767ebfeb45c69f08e17dfe3ef375c7b' does not match '^[0-9a-z](?:-?[0-9a-z]){31}$'\n",
      "-/- Validation error found at file: ArrayAssay-invalid-3.json\n",
      "\tCause: 'EGAN00000000001' does not match '^EGAA[0-9]{11}$'\n",
      "-/- Validation error found at file: ArrayAssay-invalid-4.json\n",
      "\tCause: 'NCIT:C171275' is not one of ['NCIT:C171276', 'NCIT:C80226']\n",
      "-/- Validation error found at file: ArrayAssay-invalid-5.json\n",
      "\tCause: '2221-06-24' does not match '^(19|20)[0-9]{2}-(0[0-9]|1[0-2])-([012][0-9]|3[01])$'\n",
      "-/- Validation error found at file: ArrayAssay-invalid-6.json\n",
      "\tCause: 'made up archive' is not one of ['ensembl', 'ena', 'pubmed', 'protein', 'nuccore', 'ipg', 'nucleotide', 'structure', 'genome', 'annotinfo', 'assembly', 'bioproject', 'biosample', 'blastdbinfo', 'books', 'cdd', 'clinvar', 'gap', 'gapplus', 'grasp', 'dbvar', 'gene', 'gds', 'geoprofiles', 'homologene', 'medgen', 'mesh', 'ncbisearch', 'nlmcatalog', 'omim', 'orgtrack', 'pmc', 'popset', 'proteinclusters', 'pcassay', 'protfam', 'biosystems', 'pccompound', 'pcsubstance', 'seqannot', 'snp', 'sra', 'taxonomy', 'biocollections', 'gtr']\n",
      "- Correctly validated file: ArrayAssay-valid-1.json\n",
      "\n",
      "- Correctly validated file: ArrayAssay-valid-2.json\n",
      "\n",
      "-/- Validation error found at file: ArrayExperiment-invalid-1.json\n",
      "\tCause: 'EGAE0000000001' does not match '^EGAE[0-9]{11}$'\n",
      "-/- Validation error found at file: ArrayExperiment-invalid-2.json\n",
      "\tCause: 'EGAE00000000003' does not match '^EGAS[0-9]{11}$'\n",
      "-/- Validation error found at file: ArrayExperiment-invalid-3.json\n",
      "\tCause: 'protocol_ontology' is a required property\n",
      "-/- Validation error found at file: ArrayExperiment-invalid-4.json\n",
      "\tCause: 'c6779ec2960296ed9a04f08d67f64423' does not match '^[A-Fa-f0-9]{64}$'\n",
      "-/- Validation error found at file: ArrayExperiment-invalid-5.json\n",
      "\tCause: 'myADF-file.fasta' does not match '^[^<>:;,?\"*|/]+\\\\.fam(.gz|.zip|.rar|.arj|.tar|.7z)?(.gpg)?$'\n",
      "- Correctly validated file: ArrayExperiment-valid-1.json\n",
      "\n"
     ]
    }
   ],
   "source": [
    "import jsonschema\n",
    "import json\n",
    "\n",
    "def validate_json_file(common_schema_file, object_schema_file, json_data_file):\n",
    "    \"\"\"\n",
    "    Function that, given a common-definitions schema and a specific data schema (both written in JSON),\n",
    "        validates a third JSON file with the first two. For further details, go to: \n",
    "            https://github.com/EbiEga/ega-metadata-schema/tree/main/schemas\n",
    "    \"\"\"\n",
    "    # Load the common-definitions JSON schema\n",
    "    with open(common_schema_file, \"r\") as f:\n",
    "        common_schema = json.load(f)\n",
    "        \n",
    "    # Load the specific schema\n",
    "    with open(object_schema_file, \"r\") as f:\n",
    "        object_schema = json.load(f)\n",
    "        \n",
    "    # Load the JSON data file\n",
    "    with open(json_data_file, \"r\") as f:\n",
    "        data_json = json.load(f)\n",
    "    \n",
    "    # We create the reference dictionary linking $id and $ref between files\n",
    "    schema_store = {\n",
    "        common_schema['$id'] : common_schema,\n",
    "        object_schema['$id'] : object_schema\n",
    "    }\n",
    "    resolver = jsonschema.RefResolver.from_schema(common_schema, store=schema_store)\n",
    "    validator = jsonschema.Draft7Validator(object_schema, resolver=resolver)\n",
    "\n",
    "    # We try to validate the given JSON data file against the given schemas\n",
    "    try:\n",
    "        validator.validate(data_json)\n",
    "        print(f\"- Correctly validated file: {json_data_file}\\n\")\n",
    "        \n",
    "    except jsonschema.exceptions.ValidationError as error_message:\n",
    "        print(f\"-/- Validation error found at file: {json_data_file}\")\n",
    "        print(f\"\\tCause: {error_message.message}\")\n",
    "        \n",
    "        \n",
    "import os\n",
    "\n",
    "# We iterate over all json files in the current directory and use the above defined\n",
    "#     function to validate them. \n",
    "for testing_file in os.listdir(\"./\"):\n",
    "    if testing_file.endswith(\".json\"):\n",
    "        # We extract the metadata object to use the correct object schema\n",
    "        object_of_file = testing_file[:testing_file.find(\"-\")]\n",
    "        validate_json_file(common_schema_file = \"../EGA.common-definitions.json\", \n",
    "                           object_schema_file = f\"../EGA.{object_of_file}.json\", \n",
    "                           json_data_file = testing_file)"
   ]
  },
  {
   "cell_type": "code",
   "execution_count": null,
   "metadata": {},
   "outputs": [],
   "source": []
  },
  {
   "cell_type": "code",
   "execution_count": null,
   "metadata": {},
   "outputs": [],
   "source": []
  }
 ],
 "metadata": {
  "kernelspec": {
   "display_name": "Python 3",
   "language": "python",
   "name": "python3"
  },
  "language_info": {
   "codemirror_mode": {
    "name": "ipython",
    "version": 3
   },
   "file_extension": ".py",
   "mimetype": "text/x-python",
   "name": "python",
   "nbconvert_exporter": "python",
   "pygments_lexer": "ipython3",
   "version": "3.8.5"
  }
 },
 "nbformat": 4,
 "nbformat_minor": 4
}
